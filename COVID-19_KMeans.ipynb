{
  "nbformat": 4,
  "nbformat_minor": 0,
  "metadata": {
    "colab": {
      "name": "Assignment_3_Baah.ipynb",
      "provenance": [],
      "mount_file_id": "1AAv6kC64KT8kUqqoqNR2dcGeSf9S7Bp3",
      "authorship_tag": "ABX9TyNLb7DVn/uVb/0x3YNdC7GV",
      "include_colab_link": true
    },
    "kernelspec": {
      "name": "python3",
      "display_name": "Python 3"
    }
  },
  "cells": [
    {
      "cell_type": "markdown",
      "metadata": {
        "id": "view-in-github",
        "colab_type": "text"
      },
      "source": [
        "<a href=\"https://colab.research.google.com/github/abaah17/Machine_Learning/blob/main/COVID-19_KMeans.ipynb\" target=\"_parent\"><img src=\"https://colab.research.google.com/assets/colab-badge.svg\" alt=\"Open In Colab\"/></a>"
      ]
    },
    {
      "cell_type": "markdown",
      "metadata": {
        "id": "SP4sHe4PkmGo"
      },
      "source": [
        "1. Pick relevant columns which can be appropiate features to identify a country according to it’s COVID-19 record.   [10]\n",
        "\n",
        " \n",
        "\n",
        "2. Create clusters/classes of similar records using features selected in (1),  use an unsupervised learning algorithm of your choice.  [20]\n",
        "\n",
        " \n",
        "\n",
        "3. Visualise the clusters using appropriate graphs.     [10]\n",
        "\n",
        " \n",
        "\n",
        "4. Create a platform where new records of countries can be classified in the clusters in (2) [10] \n"
      ]
    },
    {
      "cell_type": "markdown",
      "metadata": {
        "id": "Xn8UXiXCaFsu"
      },
      "source": [
        "\n",
        "## ** ** the dataset given OxCGRT_latest-CAPABLE.csv do the following tasks: \n",
        "\n",
        "## 1. Pick relevant columns which can be appropiate features to identify a country according to it’s COVID-19 record.   [10]**  \n",
        "\n"
      ]
    },
    {
      "cell_type": "code",
      "metadata": {
        "id": "NoIgEb2waYGz"
      },
      "source": [
        "## Storing my dataset in a variable\n",
        "dataset = \"/content/drive/My Drive/Colab Notebooks/ML_Tatenda/OxCGRT_latest-CAPABLE - OxCGRT_latest-CAPABLE.csv\""
      ],
      "execution_count": null,
      "outputs": []
    },
    {
      "cell_type": "code",
      "metadata": {
        "id": "Hex60BsvqGVs"
      },
      "source": [
        "# importing necessary libraries and packages\n",
        "import pandas as pd\n",
        "import numpy as np\n",
        "import matplotlib.pyplot as plt\n",
        "from sklearn.preprocessing import MinMaxScaler\n",
        "from sklearn.model_selection import train_test_split\n",
        "from sklearn.metrics import accuracy_score\n",
        "from sklearn.cluster import KMeans\n",
        "import seaborn as sns\n",
        "sns.set()\n",
        "from sklearn.decomposition import PCA\n"
      ],
      "execution_count": null,
      "outputs": []
    },
    {
      "cell_type": "code",
      "metadata": {
        "id": "N-x9MIcnqGZy",
        "outputId": "ff6002c6-e519-4c77-b4ed-ce8f0bf994f3",
        "colab": {
          "base_uri": "https://localhost:8080/",
          "height": 275
        }
      },
      "source": [
        "# Reading my dataset\n",
        "df = pd.read_csv(dataset)\n",
        "df.head()\n",
        "df.describe()\n",
        "df.head()\n",
        "# list(df.columns)"
      ],
      "execution_count": null,
      "outputs": [
        {
          "output_type": "execute_result",
          "data": {
            "text/html": [
              "<div>\n",
              "<style scoped>\n",
              "    .dataframe tbody tr th:only-of-type {\n",
              "        vertical-align: middle;\n",
              "    }\n",
              "\n",
              "    .dataframe tbody tr th {\n",
              "        vertical-align: top;\n",
              "    }\n",
              "\n",
              "    .dataframe thead th {\n",
              "        text-align: right;\n",
              "    }\n",
              "</style>\n",
              "<table border=\"1\" class=\"dataframe\">\n",
              "  <thead>\n",
              "    <tr style=\"text-align: right;\">\n",
              "      <th></th>\n",
              "      <th>CountryName</th>\n",
              "      <th>CountryCode</th>\n",
              "      <th>Date</th>\n",
              "      <th>C1_School closing</th>\n",
              "      <th>C1_Flag</th>\n",
              "      <th>C2_Workplace closing</th>\n",
              "      <th>C2_Flag</th>\n",
              "      <th>C3_Cancel public events</th>\n",
              "      <th>C3_Flag</th>\n",
              "      <th>C4_Restrictions on gatherings</th>\n",
              "      <th>C4_Flag</th>\n",
              "      <th>C5_Close public transport</th>\n",
              "      <th>C5_Flag</th>\n",
              "      <th>C6_Stay at home requirements</th>\n",
              "      <th>C6_Flag</th>\n",
              "      <th>C7_Restrictions on internal movement</th>\n",
              "      <th>C7_Flag</th>\n",
              "      <th>C8_International travel controls</th>\n",
              "      <th>E1_Income support</th>\n",
              "      <th>E1_Flag</th>\n",
              "      <th>E2_Debt/contract relief</th>\n",
              "      <th>E3_Fiscal measures</th>\n",
              "      <th>E4_International support</th>\n",
              "      <th>H1_Public information campaigns</th>\n",
              "      <th>H1_Flag</th>\n",
              "      <th>H2_Testing policy</th>\n",
              "      <th>H3_Contact tracing</th>\n",
              "      <th>H4_Emergency investment in healthcare</th>\n",
              "      <th>H5_Investment in vaccines</th>\n",
              "      <th>M1_Wildcard</th>\n",
              "      <th>ConfirmedCases</th>\n",
              "      <th>ConfirmedDeaths</th>\n",
              "      <th>StringencyIndex</th>\n",
              "      <th>StringencyIndexForDisplay</th>\n",
              "      <th>StringencyLegacyIndex</th>\n",
              "      <th>StringencyLegacyIndexForDisplay</th>\n",
              "      <th>GovernmentResponseIndex</th>\n",
              "      <th>GovernmentResponseIndexForDisplay</th>\n",
              "      <th>ContainmentHealthIndex</th>\n",
              "      <th>ContainmentHealthIndexForDisplay</th>\n",
              "      <th>EconomicSupportIndex</th>\n",
              "      <th>EconomicSupportIndexForDisplay</th>\n",
              "    </tr>\n",
              "  </thead>\n",
              "  <tbody>\n",
              "    <tr>\n",
              "      <th>0</th>\n",
              "      <td>Aruba</td>\n",
              "      <td>ABW</td>\n",
              "      <td>20200101</td>\n",
              "      <td>0.0</td>\n",
              "      <td>NaN</td>\n",
              "      <td>0.0</td>\n",
              "      <td>NaN</td>\n",
              "      <td>0.0</td>\n",
              "      <td>NaN</td>\n",
              "      <td>0.0</td>\n",
              "      <td>NaN</td>\n",
              "      <td>0.0</td>\n",
              "      <td>NaN</td>\n",
              "      <td>0.0</td>\n",
              "      <td>NaN</td>\n",
              "      <td>0.0</td>\n",
              "      <td>NaN</td>\n",
              "      <td>0.0</td>\n",
              "      <td>0.0</td>\n",
              "      <td>NaN</td>\n",
              "      <td>0.0</td>\n",
              "      <td>0.0</td>\n",
              "      <td>0.0</td>\n",
              "      <td>0.0</td>\n",
              "      <td>NaN</td>\n",
              "      <td>0.0</td>\n",
              "      <td>0.0</td>\n",
              "      <td>0.0</td>\n",
              "      <td>0.0</td>\n",
              "      <td>NaN</td>\n",
              "      <td>NaN</td>\n",
              "      <td>NaN</td>\n",
              "      <td>0.0</td>\n",
              "      <td>0.0</td>\n",
              "      <td>0.0</td>\n",
              "      <td>0.0</td>\n",
              "      <td>0.0</td>\n",
              "      <td>0.0</td>\n",
              "      <td>0.0</td>\n",
              "      <td>0.0</td>\n",
              "      <td>0.0</td>\n",
              "      <td>0.0</td>\n",
              "    </tr>\n",
              "    <tr>\n",
              "      <th>1</th>\n",
              "      <td>Aruba</td>\n",
              "      <td>ABW</td>\n",
              "      <td>20200102</td>\n",
              "      <td>0.0</td>\n",
              "      <td>NaN</td>\n",
              "      <td>0.0</td>\n",
              "      <td>NaN</td>\n",
              "      <td>0.0</td>\n",
              "      <td>NaN</td>\n",
              "      <td>0.0</td>\n",
              "      <td>NaN</td>\n",
              "      <td>0.0</td>\n",
              "      <td>NaN</td>\n",
              "      <td>0.0</td>\n",
              "      <td>NaN</td>\n",
              "      <td>0.0</td>\n",
              "      <td>NaN</td>\n",
              "      <td>0.0</td>\n",
              "      <td>0.0</td>\n",
              "      <td>NaN</td>\n",
              "      <td>0.0</td>\n",
              "      <td>0.0</td>\n",
              "      <td>0.0</td>\n",
              "      <td>0.0</td>\n",
              "      <td>NaN</td>\n",
              "      <td>0.0</td>\n",
              "      <td>0.0</td>\n",
              "      <td>0.0</td>\n",
              "      <td>0.0</td>\n",
              "      <td>NaN</td>\n",
              "      <td>NaN</td>\n",
              "      <td>NaN</td>\n",
              "      <td>0.0</td>\n",
              "      <td>0.0</td>\n",
              "      <td>0.0</td>\n",
              "      <td>0.0</td>\n",
              "      <td>0.0</td>\n",
              "      <td>0.0</td>\n",
              "      <td>0.0</td>\n",
              "      <td>0.0</td>\n",
              "      <td>0.0</td>\n",
              "      <td>0.0</td>\n",
              "    </tr>\n",
              "    <tr>\n",
              "      <th>2</th>\n",
              "      <td>Aruba</td>\n",
              "      <td>ABW</td>\n",
              "      <td>20200103</td>\n",
              "      <td>0.0</td>\n",
              "      <td>NaN</td>\n",
              "      <td>0.0</td>\n",
              "      <td>NaN</td>\n",
              "      <td>0.0</td>\n",
              "      <td>NaN</td>\n",
              "      <td>0.0</td>\n",
              "      <td>NaN</td>\n",
              "      <td>0.0</td>\n",
              "      <td>NaN</td>\n",
              "      <td>0.0</td>\n",
              "      <td>NaN</td>\n",
              "      <td>0.0</td>\n",
              "      <td>NaN</td>\n",
              "      <td>0.0</td>\n",
              "      <td>0.0</td>\n",
              "      <td>NaN</td>\n",
              "      <td>0.0</td>\n",
              "      <td>0.0</td>\n",
              "      <td>0.0</td>\n",
              "      <td>0.0</td>\n",
              "      <td>NaN</td>\n",
              "      <td>0.0</td>\n",
              "      <td>0.0</td>\n",
              "      <td>0.0</td>\n",
              "      <td>0.0</td>\n",
              "      <td>NaN</td>\n",
              "      <td>NaN</td>\n",
              "      <td>NaN</td>\n",
              "      <td>0.0</td>\n",
              "      <td>0.0</td>\n",
              "      <td>0.0</td>\n",
              "      <td>0.0</td>\n",
              "      <td>0.0</td>\n",
              "      <td>0.0</td>\n",
              "      <td>0.0</td>\n",
              "      <td>0.0</td>\n",
              "      <td>0.0</td>\n",
              "      <td>0.0</td>\n",
              "    </tr>\n",
              "    <tr>\n",
              "      <th>3</th>\n",
              "      <td>Aruba</td>\n",
              "      <td>ABW</td>\n",
              "      <td>20200104</td>\n",
              "      <td>0.0</td>\n",
              "      <td>NaN</td>\n",
              "      <td>0.0</td>\n",
              "      <td>NaN</td>\n",
              "      <td>0.0</td>\n",
              "      <td>NaN</td>\n",
              "      <td>0.0</td>\n",
              "      <td>NaN</td>\n",
              "      <td>0.0</td>\n",
              "      <td>NaN</td>\n",
              "      <td>0.0</td>\n",
              "      <td>NaN</td>\n",
              "      <td>0.0</td>\n",
              "      <td>NaN</td>\n",
              "      <td>0.0</td>\n",
              "      <td>0.0</td>\n",
              "      <td>NaN</td>\n",
              "      <td>0.0</td>\n",
              "      <td>0.0</td>\n",
              "      <td>0.0</td>\n",
              "      <td>0.0</td>\n",
              "      <td>NaN</td>\n",
              "      <td>0.0</td>\n",
              "      <td>0.0</td>\n",
              "      <td>0.0</td>\n",
              "      <td>0.0</td>\n",
              "      <td>NaN</td>\n",
              "      <td>NaN</td>\n",
              "      <td>NaN</td>\n",
              "      <td>0.0</td>\n",
              "      <td>0.0</td>\n",
              "      <td>0.0</td>\n",
              "      <td>0.0</td>\n",
              "      <td>0.0</td>\n",
              "      <td>0.0</td>\n",
              "      <td>0.0</td>\n",
              "      <td>0.0</td>\n",
              "      <td>0.0</td>\n",
              "      <td>0.0</td>\n",
              "    </tr>\n",
              "    <tr>\n",
              "      <th>4</th>\n",
              "      <td>Aruba</td>\n",
              "      <td>ABW</td>\n",
              "      <td>20200105</td>\n",
              "      <td>0.0</td>\n",
              "      <td>NaN</td>\n",
              "      <td>0.0</td>\n",
              "      <td>NaN</td>\n",
              "      <td>0.0</td>\n",
              "      <td>NaN</td>\n",
              "      <td>0.0</td>\n",
              "      <td>NaN</td>\n",
              "      <td>0.0</td>\n",
              "      <td>NaN</td>\n",
              "      <td>0.0</td>\n",
              "      <td>NaN</td>\n",
              "      <td>0.0</td>\n",
              "      <td>NaN</td>\n",
              "      <td>0.0</td>\n",
              "      <td>0.0</td>\n",
              "      <td>NaN</td>\n",
              "      <td>0.0</td>\n",
              "      <td>0.0</td>\n",
              "      <td>0.0</td>\n",
              "      <td>0.0</td>\n",
              "      <td>NaN</td>\n",
              "      <td>0.0</td>\n",
              "      <td>0.0</td>\n",
              "      <td>0.0</td>\n",
              "      <td>0.0</td>\n",
              "      <td>NaN</td>\n",
              "      <td>NaN</td>\n",
              "      <td>NaN</td>\n",
              "      <td>0.0</td>\n",
              "      <td>0.0</td>\n",
              "      <td>0.0</td>\n",
              "      <td>0.0</td>\n",
              "      <td>0.0</td>\n",
              "      <td>0.0</td>\n",
              "      <td>0.0</td>\n",
              "      <td>0.0</td>\n",
              "      <td>0.0</td>\n",
              "      <td>0.0</td>\n",
              "    </tr>\n",
              "  </tbody>\n",
              "</table>\n",
              "</div>"
            ],
            "text/plain": [
              "  CountryName CountryCode  ...  EconomicSupportIndex  EconomicSupportIndexForDisplay\n",
              "0       Aruba         ABW  ...                   0.0                             0.0\n",
              "1       Aruba         ABW  ...                   0.0                             0.0\n",
              "2       Aruba         ABW  ...                   0.0                             0.0\n",
              "3       Aruba         ABW  ...                   0.0                             0.0\n",
              "4       Aruba         ABW  ...                   0.0                             0.0\n",
              "\n",
              "[5 rows x 42 columns]"
            ]
          },
          "metadata": {
            "tags": []
          },
          "execution_count": 294
        }
      ]
    },
    {
      "cell_type": "code",
      "metadata": {
        "id": "WJY6saQaqGUN",
        "outputId": "0266fc34-5572-4582-eb8a-bd4cb77e097c",
        "colab": {
          "base_uri": "https://localhost:8080/"
        }
      },
      "source": [
        "# Selecting relevant features that identify a country according to it's covid-19 \n",
        "# record\n",
        "\n",
        "# dropping unwanted columns \n",
        "cols = ['CountryName', 'CountryCode', 'Date', 'C1_School closing', 'C1_Flag',\n",
        "       'C2_Workplace closing', 'C2_Flag', 'C3_Cancel public events', 'C3_Flag',\n",
        "       'C4_Restrictions on gatherings', 'C4_Flag', 'C5_Close public transport',\n",
        "       'C5_Flag', 'C6_Stay at home requirements', 'C6_Flag',\n",
        "       'C7_Restrictions on internal movement', 'C7_Flag',\n",
        "       'C8_International travel controls', 'E1_Income support', 'E1_Flag',\n",
        "       'E2_Debt/contract relief', 'E3_Fiscal measures',\n",
        "       'E4_International support', 'H1_Public information campaigns',\n",
        "       'H1_Flag', 'H2_Testing policy', 'H3_Contact tracing',\n",
        "       'H4_Emergency investment in healthcare', 'H5_Investment in vaccines',\n",
        "       'M1_Wildcard', 'ConfirmedCases', 'ConfirmedDeaths', 'StringencyIndex',\n",
        "       'StringencyIndexForDisplay', 'StringencyLegacyIndex',\n",
        "       'StringencyLegacyIndexForDisplay', 'GovernmentResponseIndex',\n",
        "       'GovernmentResponseIndexForDisplay', 'ContainmentHealthIndex',\n",
        "       'ContainmentHealthIndexForDisplay', 'EconomicSupportIndex',\n",
        "       'EconomicSupportIndexForDisplay']\n",
        "\n",
        "\n",
        "# for i in cols:\n",
        "#   print(df[i])\n",
        "#   print(df[i].unique())\n",
        "\n",
        "cols_drop = []\n",
        "for i in cols:\n",
        "  # print(df[i])\n",
        "  percent_missing = df[i].isnull().sum() * 100 / len(df)\n",
        "  # finding columns that have nan greater or equal 60%\n",
        "  if percent_missing >= 60: \n",
        "    # print(percent_missing)\n",
        "    cols_drop.append(i)\n",
        "    \n",
        "\n",
        "cols_drop.append('CountryName')\n",
        "cols_drop.append('CountryCode')\n",
        "cols_drop.append('Date')\n",
        "not_needed = [\n",
        "              'StringencyIndexForDisplay',\n",
        "              'StringencyLegacyIndexForDisplay', 'GovernmentResponseIndexForDisplay',\n",
        "               'ContainmentHealthIndexForDisplay','EconomicSupportIndexForDisplay'\n",
        "             ]\n",
        "for i in not_needed:\n",
        "  cols_drop.append(i)\n",
        "cols_drop\n",
        "\n",
        "# dropping columnns not needed for our model\n",
        "data_selected = df.drop(cols_drop, axis = 1)\n",
        "\n",
        "cols = list(data_selected.columns)\n",
        "\n",
        "cols\n"
      ],
      "execution_count": null,
      "outputs": [
        {
          "output_type": "execute_result",
          "data": {
            "text/plain": [
              "['C1_School closing',\n",
              " 'C1_Flag',\n",
              " 'C2_Workplace closing',\n",
              " 'C2_Flag',\n",
              " 'C3_Cancel public events',\n",
              " 'C3_Flag',\n",
              " 'C4_Restrictions on gatherings',\n",
              " 'C4_Flag',\n",
              " 'C5_Close public transport',\n",
              " 'C6_Stay at home requirements',\n",
              " 'C7_Restrictions on internal movement',\n",
              " 'C8_International travel controls',\n",
              " 'E1_Income support',\n",
              " 'E2_Debt/contract relief',\n",
              " 'E3_Fiscal measures',\n",
              " 'E4_International support',\n",
              " 'H1_Public information campaigns',\n",
              " 'H1_Flag',\n",
              " 'H2_Testing policy',\n",
              " 'H3_Contact tracing',\n",
              " 'H4_Emergency investment in healthcare',\n",
              " 'H5_Investment in vaccines',\n",
              " 'ConfirmedCases',\n",
              " 'ConfirmedDeaths',\n",
              " 'StringencyIndex',\n",
              " 'StringencyLegacyIndex',\n",
              " 'GovernmentResponseIndex',\n",
              " 'ContainmentHealthIndex',\n",
              " 'EconomicSupportIndex']"
            ]
          },
          "metadata": {
            "tags": []
          },
          "execution_count": 295
        }
      ]
    },
    {
      "cell_type": "markdown",
      "metadata": {
        "id": "MbqMKENmaJz9"
      },
      "source": [
        "\n",
        "# **2. Create clusters/classes of similar records using features selected in (1),  use an unsupervised learning algorithm of your choice.  [20]**"
      ]
    },
    {
      "cell_type": "code",
      "metadata": {
        "id": "1FJZWfLqaYtu",
        "outputId": "5badad94-5424-4fe9-88e9-2885a2096e62",
        "colab": {
          "base_uri": "https://localhost:8080/"
        }
      },
      "source": [
        "# Preprocessing my selected data before modeling\n",
        "\n",
        "# filling the nan values with mean and mode based on the condition\n",
        "for i in data_selected.columns:\n",
        "  if data_selected[i].mean() < 3:\n",
        "    data_selected[i].fillna(selected_features[i].mode()[0], inplace=True)\n",
        "    data_selected[i].astype(int)\n",
        "  else:\n",
        "    data_selected[i].fillna(selected_features[i].mean(), inplace=True)\n",
        "\n",
        "\n",
        "data_selected.head()\n",
        "# cross-checking if there are still null values in my dataset\n",
        "data_selected.describe()\n",
        "\n",
        "data_selected\n",
        "\n",
        "#Performing Feature Scaling on my selected data\n",
        "standardScaler = MinMaxScaler()\n",
        "columns_for_ft_scaling = cols \n",
        "\n",
        "#Applying the feature scaling operation on dataset using fit_transform() method\n",
        "data_selected[columns_for_ft_scaling] = standardScaler.fit_transform(data_selected[columns_for_ft_scaling])\n",
        "\n",
        "data_selected.columns\n",
        "  "
      ],
      "execution_count": null,
      "outputs": [
        {
          "output_type": "execute_result",
          "data": {
            "text/plain": [
              "Index(['C1_School closing', 'C1_Flag', 'C2_Workplace closing', 'C2_Flag',\n",
              "       'C3_Cancel public events', 'C3_Flag', 'C4_Restrictions on gatherings',\n",
              "       'C4_Flag', 'C5_Close public transport', 'C6_Stay at home requirements',\n",
              "       'C7_Restrictions on internal movement',\n",
              "       'C8_International travel controls', 'E1_Income support',\n",
              "       'E2_Debt/contract relief', 'E3_Fiscal measures',\n",
              "       'E4_International support', 'H1_Public information campaigns',\n",
              "       'H1_Flag', 'H2_Testing policy', 'H3_Contact tracing',\n",
              "       'H4_Emergency investment in healthcare', 'H5_Investment in vaccines',\n",
              "       'ConfirmedCases', 'ConfirmedDeaths', 'StringencyIndex',\n",
              "       'StringencyLegacyIndex', 'GovernmentResponseIndex',\n",
              "       'ContainmentHealthIndex', 'EconomicSupportIndex'],\n",
              "      dtype='object')"
            ]
          },
          "metadata": {
            "tags": []
          },
          "execution_count": 296
        }
      ]
    },
    {
      "cell_type": "code",
      "metadata": {
        "id": "zbapURhw0XWH",
        "outputId": "388e5533-f470-4e75-d8d4-ea885a258bb0",
        "colab": {
          "base_uri": "https://localhost:8080/"
        }
      },
      "source": [
        "# Employing K-means Unsupervised learning algorithm\n",
        "model = KMeans(n_clusters=4)\n",
        "model.fit(data_selected)\n",
        "\n",
        "prediction = model.predict(data_selected)\n",
        "prediction"
      ],
      "execution_count": null,
      "outputs": [
        {
          "output_type": "execute_result",
          "data": {
            "text/plain": [
              "array([2, 2, 2, ..., 1, 0, 0], dtype=int32)"
            ]
          },
          "metadata": {
            "tags": []
          },
          "execution_count": 297
        }
      ]
    },
    {
      "cell_type": "code",
      "metadata": {
        "id": "GFOVA--A2eaC"
      },
      "source": [
        "# identifying the clusters\n",
        "# clusters = model.cluster_centers_\n",
        "# clusters\n",
        "\n",
        "# y_km = model.fit_predict(data_selected)\n",
        "\n",
        "# data_selected = np.array(data_selected) #that all\n",
        "\n",
        "# plt.scatter(data_selected[y_km == 0,0], data_selected[y_km == 0,1], s=60, color='red')\n",
        "# plt.scatter(data_selected[y_km == 1,0], data_selected[y_km == 1,1], s=60, color='blue')\n",
        "\n"
      ],
      "execution_count": null,
      "outputs": []
    },
    {
      "cell_type": "markdown",
      "metadata": {
        "id": "G1I0NBCRaNRo"
      },
      "source": [
        "\n",
        "# **3. Visualise the clusters using appropriate graphs.     [10]**"
      ]
    },
    {
      "cell_type": "code",
      "metadata": {
        "id": "nyWOAJCpaZUY",
        "outputId": "a7f26d3c-f16a-47dc-f60b-7f396f6cd0ea",
        "colab": {
          "base_uri": "https://localhost:8080/",
          "height": 536
        }
      },
      "source": [
        "# Employing PCA in visualization\n",
        "pca = PCA(n_components=2).fit(data_selected)\n",
        "pca_2d = pca.transform(data_selected)\n",
        "plt.figure(figsize=(10,8))\n",
        "plt.xlabel('component_1', fontsize=18)\n",
        "plt.ylabel('component_2', fontsize=18)\n",
        "plt.title('Segmentation of KMeans', fontsize=30)\n",
        "plt.scatter(pca_2d[:, 0], pca_2d[:, 1], c=model.labels_)\n",
        "plt.show()"
      ],
      "execution_count": null,
      "outputs": [
        {
          "output_type": "display_data",
          "data": {
            "image/png": "[encoded data removed]",
            "text/plain": [
              "<Figure size 720x576 with 1 Axes>"
            ]
          },
          "metadata": {
            "tags": []
          }
        }
      ]
    },
    {
      "cell_type": "markdown",
      "metadata": {
        "id": "urp0ybNdaSKM"
      },
      "source": [
        "# **4. Create a platform where new records of countries can be classified in the clusters in (2) [10]**"
      ]
    },
    {
      "cell_type": "code",
      "metadata": {
        "id": "Aq5OD2rmclMr",
        "outputId": "baf016ff-e261-49d8-9805-37dab2b94b25",
        "colab": {
          "base_uri": "https://localhost:8080/"
        }
      },
      "source": [
        "#@title Please enter data to be predicted\n",
        "C1_School_closing = 4 #@param {type:\"slider\", min:0, max:4, step:1}\n",
        "C1_Flag= 0 #@param {type:\"slider\", min:0, max:1, step:1}\n",
        "C2_Workplace_closing = 0 #@param {type:\"slider\", min:0, max:4, step:1}\n",
        "C2_Flag =  0 #@param {type:\"slider\", min:0, max:2, step:1}\n",
        "C3_Cancelpublicevents = 0 #@param {type:\"slider\", min:0, max:2, step:1}\n",
        "C3_Flag= 0 #@param {type:\"slider\", min:0, max:1, step:1}\n",
        "C4_Restrictionsongatherings= 0 #@param {type:\"slider\", min:0, max:5, step:1}\n",
        "C4_Flag =  0  #@param {type:\"slider\", min:0, max:1, step:1}\n",
        "C5_Closepublic= 0 #@param {type:\"slider\", min:0, max:3, step:1}\n",
        "C6_Stay_at_homerequirements= 0 #@param {type:\"slider\", min:0, max:4, step:1}\n",
        "C7_Restrictionsoninternal_movement = 0 #@param {type:\"slider\", min:0, max:3, step:1}\n",
        "C8_International_travel_controls =  0 #@param {type:\"slider\", min:0, max:5, step:1}\n",
        "E1_Income_support= 0 #@param {type:\"slider\", min:0, max:3, step:1}\n",
        "E2_Debt_contractrelief= 0 #@param {type:\"slider\", min:0, max:1, step:1}\n",
        "\n",
        "E3_Fiscalmeasures = 0 #@param {type:\"slider\", min:0, max:6616661, step:1}\n",
        "E4_Internationalsupport = 0 #@param {type:\"slider\", min:0, max:5265523, step:1}\n",
        "\n",
        "H1_Publicinformationcampaigns= 0 #@param {type:\"slider\", min:0, max:3, step:1} \n",
        "H1_Flag = 0 #@param {type:\"slider\", min:0, max:1, step:1}\n",
        "H2_Testingpolicy =  3 #@param {type:\"slider\", min:0, max:3, step:1}\n",
        "H3_Contacttracing = 2 #@param {type:\"slider\", min:0, max:2, step:1}\n",
        "\n",
        "H4_Emergencyinvestmentinhealthcare = 2 #@param {type:\"slider\", min:0, max:55555, step:1}\n",
        "H5_Investment_in_vaccines = 20 #@param {type:\"slider\", min:0, max:20, step:1}\n",
        "ConfirmedCases = 6262 #@param {type:\"slider\", min:0, max:6262, step:1}\n",
        "ConfirmedDeaths = 5659598459 #@param {type:\"slider\", min:0, max:5659598459, step:1}\n",
        "StringencyIndex =  545 #@param {type:\"slider\", min:0, max:545, step:1}\n",
        "ContainmentHealthIndex =  15296529 #@param {type:\"slider\", min:0, max:15296529, step:1}\n",
        "StringencyLegacyIndex = 15296565 #@param {type:\"slider\", min:0, max:15296565, step:1}\n",
        "GovernmentResponseIndex =  52223 #@param {type:\"slider\", min:0, max:52223, step:1}\n",
        "ContainmentHealthIndex =  15296529 #@param {type:\"slider\", min:0, max:15296529, step:1}\n",
        "\n",
        "EconomicSupportIndex = 48111 #@param {type:\"slider\", min:0, max:48111, step:1}\n",
        "\n",
        "\n",
        "form_list = [\n",
        "             C1_School_closing ,C1_Flag,C2_Workplace_closing,C2_Flag, \n",
        "             C3_Cancelpublicevents,C3_Flag,C4_Restrictionsongatherings,\n",
        "             C4_Flag,C5_Closepublic,C6_Stay_at_homerequirements,C7_Restrictionsoninternal_movement,  \n",
        "             C8_International_travel_controls,E1_Income_support,E2_Debt_contractrelief,\n",
        "             E3_Fiscalmeasures ,E4_Internationalsupport,H1_Publicinformationcampaigns,\n",
        "             H1_Flag,H2_Testingpolicy,H3_Contacttracing,H4_Emergencyinvestmentinhealthcare,\n",
        "             H5_Investment_in_vaccines ,ConfirmedCases,ConfirmedDeaths,StringencyIndex,\n",
        "             StringencyLegacyIndex,GovernmentResponseIndex,ContainmentHealthIndex,\n",
        "             EconomicSupportIndex\n",
        "            ]\n",
        "len(form_list)\n",
        "\n",
        "\n",
        "# len(form_list) == len(['C1_School closing', 'C1_Flag', 'C2_Workplace closing', 'C2_Flag',\n",
        "#        'C3_Cancel public events', 'C3_Flag', 'C4_Restrictions on gatherings',\n",
        "#        'C4_Flag', 'C5_Close public transport', 'C6_Stay at home requirements',\n",
        "#        'C7_Restrictions on internal movement','C8_International travel controls', 'E1_Income support',\n",
        "#        'E2_Debt/contract relief', 'E3_Fiscal measures',\n",
        "#        'E4_International support', 'H1_Public information campaigns',\n",
        "#        'H1_Flag', 'H2_Testing policy', 'H3_Contact tracing',\n",
        "#        'H4_Emergency investment in healthcare', 'H5_Investment in vaccines',\n",
        "#        'ConfirmedCases', 'ConfirmedDeaths', 'StringencyIndex',\n",
        "#        'StringencyLegacyIndex', 'GovernmentResponseIndex',\n",
        "#        'ContainmentHealthIndex', 'EconomicSupportIndex'])\n",
        "\n",
        "form_data = pd.DataFrame([form_list],columns=data_selected.columns)\n",
        "for i in form_data.columns:\n",
        "  form_data[i].astype(int)\n",
        "\n",
        "\n",
        "predict = model.predict(form_data)\n",
        "print(\"The prediction is \"+ str(predict[0]))\n"
      ],
      "execution_count": null,
      "outputs": [
        {
          "output_type": "stream",
          "text": [
            "The prediction is 1\n"
          ],
          "name": "stdout"
        }
      ]
    },
    {
      "cell_type": "code",
      "metadata": {
        "id": "K2aTyAfWr1HR"
      },
      "source": [
        ""
      ],
      "execution_count": null,
      "outputs": []
    }
  ]
}